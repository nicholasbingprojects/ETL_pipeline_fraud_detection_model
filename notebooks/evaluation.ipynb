{
 "cells": [
  {
   "cell_type": "code",
   "execution_count": 6,
   "metadata": {},
   "outputs": [
    {
     "name": "stdout",
     "output_type": "stream",
     "text": [
      "Dataframe columns: ['step', 'type', 'amount', 'nameOrig', 'oldbalanceOrg', 'newbalanceOrig', 'nameDest', 'oldbalanceDest', 'newbalanceDest', 'isFraud', 'isFlaggedFraud']\n",
      "Model saved successfully to: c:\\Users\\Nicholas Bing\\Documents\\ETL Pipeline\\src\\model.pkl\n"
     ]
    }
   ],
   "source": [
    "import os\n",
    "import pandas as pd\n",
    "from sklearn.model_selection import train_test_split\n",
    "from sklearn.ensemble import RandomForestClassifier  # You can choose another model if preferred\n",
    "import pickle\n",
    "\n",
    "# Load the transformed data from the appropriate relative path\n",
    "data = pd.read_csv('../data/processed/transformed_data.csv')\n",
    "\n",
    "# Check the columns of the DataFrame\n",
    "print(\"Dataframe columns:\", data.columns.tolist())\n",
    "\n",
    "# Strip whitespace from column names\n",
    "data.columns = data.columns.str.strip()\n",
    "\n",
    "# Prepare features and target\n",
    "if 'amount' not in data.columns:\n",
    "    raise KeyError(\"Column 'amount' not found in DataFrame. Available columns: {}\".format(data.columns.tolist()))\n",
    "\n",
    "X = data[['amount']]\n",
    "if 'isFraud' not in data.columns:\n",
    "    raise KeyError(\"Column 'isFraud' not found in DataFrame. Available columns: {}\".format(data.columns.tolist()))\n",
    "\n",
    "y = data['isFraud']\n",
    "\n",
    "# Split the data into training and testing sets\n",
    "X_train, X_test, y_train, y_test = train_test_split(X, y, test_size=0.2, random_state=42)\n",
    "\n",
    "# Initialize the model\n",
    "model = RandomForestClassifier(random_state=42)  # You can change this to any other model\n",
    "\n",
    "# Train the model\n",
    "model.fit(X_train, y_train)\n",
    "\n",
    "# Save the trained model to a file\n",
    "model_path = os.path.abspath('../src/model.pkl')\n",
    "with open(model_path, 'wb') as f:\n",
    "    pickle.dump(model, f)\n",
    "\n",
    "print(f\"Model saved successfully to: {model_path}\")"
   ]
  }
 ],
 "metadata": {
  "kernelspec": {
   "display_name": "venv",
   "language": "python",
   "name": "python3"
  },
  "language_info": {
   "codemirror_mode": {
    "name": "ipython",
    "version": 3
   },
   "file_extension": ".py",
   "mimetype": "text/x-python",
   "name": "python",
   "nbconvert_exporter": "python",
   "pygments_lexer": "ipython3",
   "version": "3.11.4"
  }
 },
 "nbformat": 4,
 "nbformat_minor": 2
}
