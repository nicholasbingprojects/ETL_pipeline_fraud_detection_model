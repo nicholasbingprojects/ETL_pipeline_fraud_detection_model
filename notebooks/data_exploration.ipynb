{
 "cells": [
  {
   "cell_type": "code",
   "execution_count": null,
   "metadata": {},
   "outputs": [
    {
     "name": "stdout",
     "output_type": "stream",
     "text": [
      "               step        amount  oldbalanceOrg  newbalanceOrig  \\\n",
      "count  1.048575e+06  1.048575e+06   1.048575e+06    1.048575e+06   \n",
      "mean   2.696617e+01  1.586670e+05   8.740095e+05    8.938089e+05   \n",
      "std    1.562325e+01  2.649409e+05   2.971751e+06    3.008271e+06   \n",
      "min    1.000000e+00  1.000000e-01   0.000000e+00    0.000000e+00   \n",
      "25%    1.500000e+01  1.214907e+04   0.000000e+00    0.000000e+00   \n",
      "50%    2.000000e+01  7.634333e+04   1.600200e+04    0.000000e+00   \n",
      "75%    3.900000e+01  2.137619e+05   1.366420e+05    1.746000e+05   \n",
      "max    9.500000e+01  1.000000e+07   3.890000e+07    3.890000e+07   \n",
      "\n",
      "       oldbalanceDest  newbalanceDest       isFraud  isFlaggedFraud  \n",
      "count    1.048575e+06    1.048575e+06  1.048575e+06       1048575.0  \n",
      "mean     9.781600e+05    1.114198e+06  1.089097e-03             0.0  \n",
      "std      2.296780e+06    2.416593e+06  3.298351e-02             0.0  \n",
      "min      0.000000e+00    0.000000e+00  0.000000e+00             0.0  \n",
      "25%      0.000000e+00    0.000000e+00  0.000000e+00             0.0  \n",
      "50%      1.263772e+05    2.182604e+05  0.000000e+00             0.0  \n",
      "75%      9.159235e+05    1.149808e+06  0.000000e+00             0.0  \n",
      "max      4.210000e+07    4.220000e+07  1.000000e+00             0.0  \n"
     ]
    }
   ],
   "source": [
    "import pandas as pd\n",
    "import matplotlib.pyplot as plt\n",
    "\n",
    "# Load the raw data\n",
    "data = pd.read_csv('../data/raw/data.csv')\n",
    "\n",
    "# Display basic statistics\n",
    "print(data.describe())\n",
    "\n",
    "# Plot the data\n",
    "plt.figure(figsize=(10, 6))\n",
    "plt.bar(data['nameOrig'], data['amount'])  # Adjust columns as per your dataset\n",
    "plt.title('Transaction Amounts by Origin Name')\n",
    "plt.xlabel('Origin Name')\n",
    "plt.ylabel('Transaction Amount')\n",
    "plt.xticks(rotation=45)  # Rotate labels for better readability\n",
    "plt.tight_layout()  # Adjust layout\n",
    "plt.show()"
   ]
  }
 ],
 "metadata": {
  "kernelspec": {
   "display_name": "venv",
   "language": "python",
   "name": "python3"
  },
  "language_info": {
   "codemirror_mode": {
    "name": "ipython",
    "version": 3
   },
   "file_extension": ".py",
   "mimetype": "text/x-python",
   "name": "python",
   "nbconvert_exporter": "python",
   "pygments_lexer": "ipython3",
   "version": "3.11.4"
  }
 },
 "nbformat": 4,
 "nbformat_minor": 2
}
